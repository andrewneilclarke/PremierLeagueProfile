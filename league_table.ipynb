{
 "cells": [
  {
   "cell_type": "code",
   "execution_count": 4,
   "metadata": {},
   "outputs": [],
   "source": [
    "import requests\n",
    "import pandas as pd\n",
    "import json\n",
    "from IPython.display import display"
   ]
  },
  {
   "cell_type": "code",
   "execution_count": 5,
   "metadata": {},
   "outputs": [],
   "source": [
    "def get_keys(path):\n",
    "    with open(path) as f:\n",
    "        return json.load(f)"
   ]
  },
  {
   "cell_type": "code",
   "execution_count": 6,
   "metadata": {},
   "outputs": [],
   "source": [
    "keys = get_keys(\"/Users/andrew/premierleaguepredictor/.secret/api_football.json\")\n",
    "api_key = keys['api_key']\n",
    "table_url = \"https://football-web-pages1.p.rapidapi.com/league-table.json\"\n",
    "#fix_res_url = \"https://football-web-pages1.p.rapidapi.com/fixtures-results.json\"\n",
    "querystring = {\"comp\":\"1\",\"team\":\"1\"}\n",
    "#querystring_fix_res = {\"comp\":\"1\", \"round\":\"1\", \"team\":\"1\"}\n",
    "headers = {\n",
    "    'x-rapidapi-key': api_key,\n",
    "    'x-rapidapi-host': \"football-web-pages1.p.rapidapi.com\"\n",
    "    }\n",
    "r = requests.request(\"GET\", table_url, headers=headers, params=querystring)\n",
    "#r2 = requests.request(\"GET\", fix_res_url, headers=headers, params=querystring)"
   ]
  },
  {
   "cell_type": "code",
   "execution_count": 65,
   "metadata": {},
   "outputs": [
    {
     "data": {
      "text/plain": [
       "0     {'lost': 3, 'against': 19, 'goal-difference': ...\n",
       "1     {'lost': 4, 'against': 32, 'goal-difference': ...\n",
       "2     {'lost': 7, 'against': 32, 'goal-difference': ...\n",
       "3     {'lost': 6, 'against': 25, 'goal-difference': ...\n",
       "4     {'lost': 7, 'against': 31, 'goal-difference': ...\n",
       "5     {'lost': 9, 'against': 35, 'goal-difference': ...\n",
       "6     {'lost': 8, 'against': 28, 'goal-difference': ...\n",
       "7     {'lost': 9, 'against': 36, 'goal-difference': ...\n",
       "8     {'lost': 10, 'against': 27, 'goal-difference':...\n",
       "9     {'lost': 11, 'against': 28, 'goal-difference':...\n",
       "10    {'lost': 14, 'against': 46, 'goal-difference':...\n",
       "11    {'lost': 11, 'against': 37, 'goal-difference':...\n",
       "12    {'lost': 12, 'against': 47, 'goal-difference':...\n",
       "13    {'lost': 12, 'against': 44, 'goal-difference':...\n",
       "14    {'lost': 12, 'against': 36, 'goal-difference':...\n",
       "15    {'lost': 14, 'against': 44, 'goal-difference':...\n",
       "16    {'lost': 11, 'against': 35, 'goal-difference':...\n",
       "17    {'lost': 12, 'against': 33, 'goal-difference':...\n",
       "18    {'lost': 16, 'against': 56, 'goal-difference':...\n",
       "19    {'lost': 22, 'against': 45, 'goal-difference':...\n",
       "Name: all-matches, dtype: object"
      ]
     },
     "execution_count": 65,
     "metadata": {},
     "output_type": "execute_result"
    }
   ],
   "source": [
    "#print(r.json())\n",
    "#write to json\n",
    "table_data_dl = 'table_data.json'\n",
    "with open('table_data_dl', 'w') as f:\n",
    "    json.dump(r.json()['league-table']['teams'], f, indent=4,)\n",
    "#read from json\n",
    "test = pd.read_json('table_data_dl', orient='values')\n",
    "#test.head(5)\n",
    "test['all-matches']\n",
    "#print(\"Status code:\", r.status_code)\n",
    "#print(r.json()['league-table']['teams'][3])\n",
    "#print(r2.json()['fixtures-results'].keys())"
   ]
  },
  {
   "cell_type": "code",
   "execution_count": null,
   "metadata": {},
   "outputs": [],
   "source": []
  },
  {
   "cell_type": "code",
   "execution_count": 58,
   "metadata": {},
   "outputs": [
    {
     "name": "stdout",
     "output_type": "stream",
     "text": [
      "{'lost': 3, 'against': 19, 'goal-difference': 37, 'won': 20, 'for': 56, 'drawn': 5, 'played': 28}\n",
      "Index(['all-matches', 'zone', 'name', 'home-matches', 'away-matches', 'id',\n",
      "       'position', 'total-points'],\n",
      "      dtype='object')\n",
      "0     12\n",
      "1     13\n",
      "2     30\n",
      "3      7\n",
      "4     42\n",
      "5      9\n",
      "6     19\n",
      "7     11\n",
      "8      2\n",
      "9      1\n",
      "10    29\n",
      "11    44\n",
      "12     8\n",
      "13    18\n",
      "14    22\n",
      "15    15\n",
      "16    21\n",
      "17    10\n",
      "18    20\n",
      "19    38\n",
      "Name: id, dtype: int64\n"
     ]
    }
   ],
   "source": [
    "#print(r.json()['league-table']['teams'])\n",
    "teams_dict = r.json()['league-table']['teams']\n",
    "teams_df = pd.DataFrame.from_dict(teams_dict)\n",
    "print(teams_df['all-matches'][0])\n",
    "print(teams_df.columns)\n",
    "print(teams_df['id'])\n",
    "#print(teams_df.shape)\n",
    "\n",
    "#print(teams_df['name'])\n",
    "\n",
    "#print(teams_df['total-points'])\n",
    "#print(teams_df['position'])\n",
    "#print(teams_df['home-matches'].value_counts())\n",
    "#print(teams_df.head)\n",
    "#print(teams_df.values)\n",
    "#print(teams_df.loc['name'])\n"
   ]
  },
  {
   "cell_type": "code",
   "execution_count": 9,
   "metadata": {},
   "outputs": [
    {
     "ename": "NameError",
     "evalue": "name 'r2' is not defined",
     "output_type": "error",
     "traceback": [
      "\u001b[0;31m------------------------------------------------------------------------\u001b[0m",
      "\u001b[0;31mNameError\u001b[0m                              Traceback (most recent call last)",
      "\u001b[0;32m<ipython-input-9-e758243d2691>\u001b[0m in \u001b[0;36m<module>\u001b[0;34m\u001b[0m\n\u001b[0;32m----> 1\u001b[0;31m \u001b[0mmatches_dict\u001b[0m \u001b[0;34m=\u001b[0m \u001b[0mr2\u001b[0m\u001b[0;34m.\u001b[0m\u001b[0mjson\u001b[0m\u001b[0;34m(\u001b[0m\u001b[0;34m)\u001b[0m\u001b[0;34m[\u001b[0m\u001b[0;34m'fixtures-results'\u001b[0m\u001b[0;34m]\u001b[0m\u001b[0;34m[\u001b[0m\u001b[0;34m'matches'\u001b[0m\u001b[0;34m]\u001b[0m\u001b[0;34m\u001b[0m\u001b[0;34m\u001b[0m\u001b[0m\n\u001b[0m\u001b[1;32m      2\u001b[0m \u001b[0mmatches_df\u001b[0m \u001b[0;34m=\u001b[0m \u001b[0mpd\u001b[0m\u001b[0;34m.\u001b[0m\u001b[0mDataFrame\u001b[0m\u001b[0;34m.\u001b[0m\u001b[0mfrom_dict\u001b[0m\u001b[0;34m(\u001b[0m\u001b[0mmatches_dict\u001b[0m\u001b[0;34m)\u001b[0m\u001b[0;34m\u001b[0m\u001b[0;34m\u001b[0m\u001b[0m\n\u001b[1;32m      3\u001b[0m \u001b[0;31m#print(matches_df)\u001b[0m\u001b[0;34m\u001b[0m\u001b[0;34m\u001b[0m\u001b[0;34m\u001b[0m\u001b[0m\n\u001b[1;32m      4\u001b[0m \u001b[0mprint\u001b[0m\u001b[0;34m(\u001b[0m\u001b[0mmatches_df\u001b[0m\u001b[0;34m.\u001b[0m\u001b[0mcolumns\u001b[0m\u001b[0;34m)\u001b[0m\u001b[0;34m\u001b[0m\u001b[0;34m\u001b[0m\u001b[0m\n",
      "\u001b[0;31mNameError\u001b[0m: name 'r2' is not defined"
     ]
    }
   ],
   "source": [
    "matches_dict = r2.json()['fixtures-results']['matches']\n",
    "matches_df = pd.DataFrame.from_dict(matches_dict)\n",
    "#print(matches_df)\n",
    "print(matches_df.columns)"
   ]
  },
  {
   "cell_type": "code",
   "execution_count": 22,
   "metadata": {},
   "outputs": [
    {
     "name": "stdout",
     "output_type": "stream",
     "text": [
      "                zone                     name  id  position  total-points  \\\n",
      "0          Promotion          Manchester City  12         1            65   \n",
      "1          Promotion        Manchester United  13         2            54   \n",
      "2          Promotion           Leicester City  30         3            53   \n",
      "3          Promotion                  Chelsea   7         4            50   \n",
      "4          Play-offs          West Ham United  42         5            48   \n",
      "5          Play-offs                  Everton   9         6            46   \n",
      "6   Play-offs (down)        Tottenham Hotspur  19         7            45   \n",
      "7   Play-offs (down)                Liverpool  11         8            43   \n",
      "8   Play-offs (down)              Aston Villa   2         9            40   \n",
      "9   Play-offs (down)                  Arsenal   1        10            38   \n",
      "10  Play-offs (down)             Leeds United  29        11            35   \n",
      "11  Play-offs (down)  Wolverhampton Wanderers  44        12            35   \n",
      "12  Play-offs (down)           Crystal Palace   8        13            34   \n",
      "13  Play-offs (down)              Southampton  18        14            33   \n",
      "14  Play-offs (down)                  Burnley  22        15            30   \n",
      "15  Play-offs (down)         Newcastle United  15        16            27   \n",
      "16  Play-offs (down)   Brighton & Hove Albion  21        17            26   \n",
      "17        Relegation                   Fulham  10        18            26   \n",
      "18        Relegation     West Bromwich Albion  20        19            18   \n",
      "19        Relegation         Sheffield United  38        20            14   \n",
      "\n",
      "    all-matches.lost  all-matches.against  all-matches.goal-difference  \\\n",
      "0                  3                   19                           37   \n",
      "1                  4                   32                           23   \n",
      "2                  7                   32                           16   \n",
      "3                  6                   25                           19   \n",
      "4                  7                   31                           11   \n",
      "5                  9                   35                            4   \n",
      "6                  8                   28                           18   \n",
      "7                  9                   36                           11   \n",
      "8                 10                   27                           11   \n",
      "9                 11                   28                            7   \n",
      "10                14                   46                           -3   \n",
      "11                11                   37                           -9   \n",
      "12                12                   47                          -17   \n",
      "13                12                   44                          -11   \n",
      "14                12                   36                          -16   \n",
      "15                14                   44                          -17   \n",
      "16                11                   35                           -8   \n",
      "17                12                   33                          -11   \n",
      "18                16                   56                          -36   \n",
      "19                22                   45                          -29   \n",
      "\n",
      "    all-matches.won  all-matches.for  ...  home-matches.won  home-matches.for  \\\n",
      "0                20               56  ...                11                31   \n",
      "1                15               55  ...                 6                28   \n",
      "2                16               48  ...                 6                20   \n",
      "3                14               44  ...                 7                25   \n",
      "4                14               42  ...                 8                23   \n",
      "5                14               39  ...                 5                18   \n",
      "6                13               46  ...                 7                25   \n",
      "7                12               47  ...                 7                22   \n",
      "8                12               38  ...                 5                20   \n",
      "9                11               35  ...                 5                16   \n",
      "10               11               43  ...                 5                19   \n",
      "11                9               28  ...                 5                15   \n",
      "12                9               30  ...                 4                14   \n",
      "13                9               33  ...                 5                17   \n",
      "14                7               20  ...                 4                12   \n",
      "15                7               27  ...                 4                16   \n",
      "16                5               27  ...                 1                13   \n",
      "17                5               22  ...                 2                 8   \n",
      "18                3               20  ...                 2                 9   \n",
      "19                4               16  ...                 3                10   \n",
      "\n",
      "    home-matches.drawn  home-matches.played  away-matches.lost  \\\n",
      "0                    2                   15                  1   \n",
      "1                    3                   13                  0   \n",
      "2                    1                   13                  1   \n",
      "3                    5                   14                  4   \n",
      "4                    3                   14                  4   \n",
      "5                    2                   13                  3   \n",
      "6                    3                   14                  4   \n",
      "7                    2                   15                  3   \n",
      "8                    2                   12                  5   \n",
      "9                    3                   13                  6   \n",
      "10                   2                   13                  8   \n",
      "11                   4                   13                  7   \n",
      "12                   5                   14                  7   \n",
      "13                   2                   13                  6   \n",
      "14                   6                   15                  7   \n",
      "15                   3                   13                  8   \n",
      "16                   7                   14                  5   \n",
      "17                   4                   14                  4   \n",
      "18                   5                   15                  8   \n",
      "19                   1                   15                 11   \n",
      "\n",
      "    away-matches.against  away-matches.won  away-matches.for  \\\n",
      "0                      8                 9                25   \n",
      "1                     13                 9                27   \n",
      "2                     13                10                28   \n",
      "3                     14                 7                19   \n",
      "4                     16                 6                19   \n",
      "5                     15                 9                21   \n",
      "6                     14                 6                21   \n",
      "7                     18                 5                25   \n",
      "8                     11                 7                18   \n",
      "9                     14                 6                19   \n",
      "10                    29                 6                24   \n",
      "11                    23                 4                13   \n",
      "12                    26                 5                16   \n",
      "13                    28                 4                16   \n",
      "14                    20                 3                 8   \n",
      "15                    22                 3                11   \n",
      "16                    16                 4                14   \n",
      "17                    15                 3                14   \n",
      "18                    23                 1                11   \n",
      "19                    23                 1                 6   \n",
      "\n",
      "    away-matches.drawn  away-matches.played  \n",
      "0                    3                   13  \n",
      "1                    6                   15  \n",
      "2                    4                   15  \n",
      "3                    3                   14  \n",
      "4                    3                   13  \n",
      "5                    2                   14  \n",
      "6                    3                   13  \n",
      "7                    5                   13  \n",
      "8                    2                   14  \n",
      "9                    2                   14  \n",
      "10                   0                   14  \n",
      "11                   4                   15  \n",
      "12                   2                   14  \n",
      "13                   4                   14  \n",
      "14                   3                   13  \n",
      "15                   3                   14  \n",
      "16                   4                   13  \n",
      "17                   7                   14  \n",
      "18                   4                   13  \n",
      "19                   1                   13  \n",
      "\n",
      "[20 rows x 24 columns]\n"
     ]
    }
   ],
   "source": [
    "all_league_data = r.json()\n",
    "all_teams_data = all_league_data[\"league-table\"][\"teams\"]\n",
    "pandas_df = pd.json_normalize(all_teams_data)\n",
    "names = (pandas_df['name'])\n",
    "print(pandas_df)"
   ]
  },
  {
   "cell_type": "code",
   "execution_count": null,
   "metadata": {},
   "outputs": [],
   "source": [
    "data = (r.json())\n",
    "with open('data.json', 'w') as outfile:\n",
    "    json.dump(data, outfile)"
   ]
  },
  {
   "cell_type": "code",
   "execution_count": null,
   "metadata": {},
   "outputs": [],
   "source": [
    "test = pd.read_json('data.json', orient='records')\n",
    "test.head(3)"
   ]
  },
  {
   "cell_type": "code",
   "execution_count": null,
   "metadata": {},
   "outputs": [],
   "source": [
    "df_teams = test.loc['teams']"
   ]
  },
  {
   "cell_type": "code",
   "execution_count": null,
   "metadata": {},
   "outputs": [],
   "source": [
    "df_teams.shape"
   ]
  },
  {
   "cell_type": "code",
   "execution_count": null,
   "metadata": {},
   "outputs": [],
   "source": []
  },
  {
   "cell_type": "code",
   "execution_count": null,
   "metadata": {},
   "outputs": [],
   "source": []
  }
 ],
 "metadata": {
  "kernelspec": {
   "display_name": "Python 3",
   "language": "python",
   "name": "python3"
  },
  "language_info": {
   "codemirror_mode": {
    "name": "ipython",
    "version": 3
   },
   "file_extension": ".py",
   "mimetype": "text/x-python",
   "name": "python",
   "nbconvert_exporter": "python",
   "pygments_lexer": "ipython3",
   "version": "3.8.5"
  }
 },
 "nbformat": 4,
 "nbformat_minor": 4
}
